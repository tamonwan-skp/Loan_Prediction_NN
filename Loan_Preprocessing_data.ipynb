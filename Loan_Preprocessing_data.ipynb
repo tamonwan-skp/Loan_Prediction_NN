{
  "nbformat": 4,
  "nbformat_minor": 0,
  "metadata": {
    "colab": {
      "name": "Loan_Preprocessing_data.ipynb",
      "provenance": [],
      "collapsed_sections": [],
      "authorship_tag": "ABX9TyMMC+lsdVVQ+Bsat6lC2tw9",
      "include_colab_link": true
    },
    "kernelspec": {
      "name": "python3",
      "display_name": "Python 3"
    }
  },
  "cells": [
    {
      "cell_type": "markdown",
      "metadata": {
        "id": "view-in-github",
        "colab_type": "text"
      },
      "source": [
        "<a href=\"https://colab.research.google.com/github/tamonwan-skp/Loan_Prediction_NN/blob/main/Loan_Preprocessing_data.ipynb\" target=\"_parent\"><img src=\"https://colab.research.google.com/assets/colab-badge.svg\" alt=\"Open In Colab\"/></a>"
      ]
    },
    {
      "cell_type": "markdown",
      "metadata": {
        "id": "j21k53ld73ZB"
      },
      "source": [
        "#STEP 1 : Loan Data Pre-processing\n",
        "<ol>1.1 Filling the missing data\n",
        "<ol>1.1.1 Filling in categorical data (mode)</ol>\n",
        "<ol>1.1.2 Filling in the numerical data (mean/mediun)</ol></ol>\n",
        "<ol>1.2 Tranform Data (Categories to Number)</ol>\n",
        "<ol>1.3 Normalization\n"
      ]
    },
    {
      "cell_type": "code",
      "metadata": {
        "id": "-xx18TiJ7cqj"
      },
      "source": [
        "import pandas as pd"
      ],
      "execution_count": null,
      "outputs": []
    },
    {
      "cell_type": "code",
      "metadata": {
        "id": "nrpf6nwM7krr",
        "outputId": "06380637-568e-41e1-bc33-1b6a3af738b4",
        "colab": {
          "base_uri": "https://localhost:8080/",
          "height": 35
        }
      },
      "source": [
        "print(pd.__version__)"
      ],
      "execution_count": null,
      "outputs": [
        {
          "output_type": "stream",
          "text": [
            "1.1.2\n"
          ],
          "name": "stdout"
        }
      ]
    },
    {
      "cell_type": "code",
      "metadata": {
        "id": "miTiuNDh72cw"
      },
      "source": [
        "#read load data file\n",
        "df = pd.read_csv('loan_data.csv')"
      ],
      "execution_count": null,
      "outputs": []
    },
    {
      "cell_type": "code",
      "metadata": {
        "id": "MQkGO6ZU8eEp",
        "outputId": "a95b530c-6608-4bbe-c58b-f84d7900c37e",
        "colab": {
          "base_uri": "https://localhost:8080/",
          "height": 239
        }
      },
      "source": [
        "#show first five data\n",
        "df.head(5)"
      ],
      "execution_count": null,
      "outputs": [
        {
          "output_type": "execute_result",
          "data": {
            "text/html": [
              "<div>\n",
              "<style scoped>\n",
              "    .dataframe tbody tr th:only-of-type {\n",
              "        vertical-align: middle;\n",
              "    }\n",
              "\n",
              "    .dataframe tbody tr th {\n",
              "        vertical-align: top;\n",
              "    }\n",
              "\n",
              "    .dataframe thead th {\n",
              "        text-align: right;\n",
              "    }\n",
              "</style>\n",
              "<table border=\"1\" class=\"dataframe\">\n",
              "  <thead>\n",
              "    <tr style=\"text-align: right;\">\n",
              "      <th></th>\n",
              "      <th>Loan_ID</th>\n",
              "      <th>Gender</th>\n",
              "      <th>Married</th>\n",
              "      <th>Dependents</th>\n",
              "      <th>Education</th>\n",
              "      <th>Self_Employed</th>\n",
              "      <th>ApplicantIncome</th>\n",
              "      <th>CoapplicantIncome</th>\n",
              "      <th>LoanAmount</th>\n",
              "      <th>Loan_Amount_Term</th>\n",
              "      <th>Credit_History</th>\n",
              "      <th>Property_Area</th>\n",
              "      <th>Loan_Status</th>\n",
              "    </tr>\n",
              "  </thead>\n",
              "  <tbody>\n",
              "    <tr>\n",
              "      <th>0</th>\n",
              "      <td>LP001002</td>\n",
              "      <td>Male</td>\n",
              "      <td>No</td>\n",
              "      <td>0</td>\n",
              "      <td>Graduate</td>\n",
              "      <td>No</td>\n",
              "      <td>5849</td>\n",
              "      <td>0.0</td>\n",
              "      <td>NaN</td>\n",
              "      <td>360.0</td>\n",
              "      <td>1.0</td>\n",
              "      <td>Urban</td>\n",
              "      <td>Y</td>\n",
              "    </tr>\n",
              "    <tr>\n",
              "      <th>1</th>\n",
              "      <td>LP001003</td>\n",
              "      <td>Male</td>\n",
              "      <td>Yes</td>\n",
              "      <td>1</td>\n",
              "      <td>Graduate</td>\n",
              "      <td>No</td>\n",
              "      <td>4583</td>\n",
              "      <td>1508.0</td>\n",
              "      <td>128.0</td>\n",
              "      <td>360.0</td>\n",
              "      <td>1.0</td>\n",
              "      <td>Rural</td>\n",
              "      <td>N</td>\n",
              "    </tr>\n",
              "    <tr>\n",
              "      <th>2</th>\n",
              "      <td>LP001005</td>\n",
              "      <td>Male</td>\n",
              "      <td>Yes</td>\n",
              "      <td>0</td>\n",
              "      <td>Graduate</td>\n",
              "      <td>Yes</td>\n",
              "      <td>3000</td>\n",
              "      <td>0.0</td>\n",
              "      <td>66.0</td>\n",
              "      <td>360.0</td>\n",
              "      <td>1.0</td>\n",
              "      <td>Urban</td>\n",
              "      <td>Y</td>\n",
              "    </tr>\n",
              "    <tr>\n",
              "      <th>3</th>\n",
              "      <td>LP001006</td>\n",
              "      <td>Male</td>\n",
              "      <td>Yes</td>\n",
              "      <td>0</td>\n",
              "      <td>Not Graduate</td>\n",
              "      <td>No</td>\n",
              "      <td>2583</td>\n",
              "      <td>2358.0</td>\n",
              "      <td>120.0</td>\n",
              "      <td>360.0</td>\n",
              "      <td>1.0</td>\n",
              "      <td>Urban</td>\n",
              "      <td>Y</td>\n",
              "    </tr>\n",
              "    <tr>\n",
              "      <th>4</th>\n",
              "      <td>LP001008</td>\n",
              "      <td>Male</td>\n",
              "      <td>No</td>\n",
              "      <td>0</td>\n",
              "      <td>Graduate</td>\n",
              "      <td>No</td>\n",
              "      <td>6000</td>\n",
              "      <td>0.0</td>\n",
              "      <td>141.0</td>\n",
              "      <td>360.0</td>\n",
              "      <td>1.0</td>\n",
              "      <td>Urban</td>\n",
              "      <td>Y</td>\n",
              "    </tr>\n",
              "  </tbody>\n",
              "</table>\n",
              "</div>"
            ],
            "text/plain": [
              "    Loan_ID Gender Married  ... Credit_History Property_Area Loan_Status\n",
              "0  LP001002   Male      No  ...            1.0         Urban           Y\n",
              "1  LP001003   Male     Yes  ...            1.0         Rural           N\n",
              "2  LP001005   Male     Yes  ...            1.0         Urban           Y\n",
              "3  LP001006   Male     Yes  ...            1.0         Urban           Y\n",
              "4  LP001008   Male      No  ...            1.0         Urban           Y\n",
              "\n",
              "[5 rows x 13 columns]"
            ]
          },
          "metadata": {
            "tags": []
          },
          "execution_count": 10
        }
      ]
    },
    {
      "cell_type": "code",
      "metadata": {
        "id": "uyPDo9zW9lPt",
        "outputId": "0ad05144-e2ab-4a21-be0f-a18ce42748a0",
        "colab": {
          "base_uri": "https://localhost:8080/",
          "height": 260
        }
      },
      "source": [
        "df.dtypes"
      ],
      "execution_count": null,
      "outputs": [
        {
          "output_type": "execute_result",
          "data": {
            "text/plain": [
              "Loan_ID               object\n",
              "Gender                object\n",
              "Married               object\n",
              "Dependents            object\n",
              "Education             object\n",
              "Self_Employed         object\n",
              "ApplicantIncome        int64\n",
              "CoapplicantIncome    float64\n",
              "LoanAmount           float64\n",
              "Loan_Amount_Term     float64\n",
              "Credit_History       float64\n",
              "Property_Area         object\n",
              "Loan_Status           object\n",
              "dtype: object"
            ]
          },
          "metadata": {
            "tags": []
          },
          "execution_count": 11
        }
      ]
    },
    {
      "cell_type": "code",
      "metadata": {
        "id": "1HXes8Os96-J",
        "outputId": "55d90ca3-a449-4480-d229-31e7d518ed2e",
        "colab": {
          "base_uri": "https://localhost:8080/",
          "height": 364
        }
      },
      "source": [
        "df.info()"
      ],
      "execution_count": null,
      "outputs": [
        {
          "output_type": "stream",
          "text": [
            "<class 'pandas.core.frame.DataFrame'>\n",
            "RangeIndex: 614 entries, 0 to 613\n",
            "Data columns (total 13 columns):\n",
            " #   Column             Non-Null Count  Dtype  \n",
            "---  ------             --------------  -----  \n",
            " 0   Loan_ID            614 non-null    object \n",
            " 1   Gender             601 non-null    object \n",
            " 2   Married            611 non-null    object \n",
            " 3   Dependents         599 non-null    object \n",
            " 4   Education          614 non-null    object \n",
            " 5   Self_Employed      582 non-null    object \n",
            " 6   ApplicantIncome    614 non-null    int64  \n",
            " 7   CoapplicantIncome  614 non-null    float64\n",
            " 8   LoanAmount         592 non-null    float64\n",
            " 9   Loan_Amount_Term   600 non-null    float64\n",
            " 10  Credit_History     564 non-null    float64\n",
            " 11  Property_Area      614 non-null    object \n",
            " 12  Loan_Status        614 non-null    object \n",
            "dtypes: float64(4), int64(1), object(8)\n",
            "memory usage: 62.5+ KB\n"
          ],
          "name": "stdout"
        }
      ]
    },
    {
      "cell_type": "code",
      "metadata": {
        "id": "Ci9Qv-Jd9uJO",
        "outputId": "40682e04-426e-4eb4-ea07-704e71756847",
        "colab": {
          "base_uri": "https://localhost:8080/",
          "height": 260
        }
      },
      "source": [
        "#find missing values in every columns\n",
        "df.isnull().sum()"
      ],
      "execution_count": null,
      "outputs": [
        {
          "output_type": "execute_result",
          "data": {
            "text/plain": [
              "Loan_ID               0\n",
              "Gender               13\n",
              "Married               3\n",
              "Dependents           15\n",
              "Education             0\n",
              "Self_Employed        32\n",
              "ApplicantIncome       0\n",
              "CoapplicantIncome     0\n",
              "LoanAmount           22\n",
              "Loan_Amount_Term     14\n",
              "Credit_History       50\n",
              "Property_Area         0\n",
              "Loan_Status           0\n",
              "dtype: int64"
            ]
          },
          "metadata": {
            "tags": []
          },
          "execution_count": 13
        }
      ]
    },
    {
      "cell_type": "markdown",
      "metadata": {
        "id": "r2_1tww3-MU1"
      },
      "source": [
        "## 1.1 Filling the missing values"
      ]
    },
    {
      "cell_type": "markdown",
      "metadata": {
        "id": "YfeJMHoN_BF9"
      },
      "source": [
        "#### 1.1.1 Filling in categorical data (mode)"
      ]
    },
    {
      "cell_type": "code",
      "metadata": {
        "id": "oyGmgG5w92XG"
      },
      "source": [
        "df['Gender'].fillna(df['Gender'].mode()[0], inplace = True)\n",
        "df['Married'].fillna(df['Married'].mode()[0], inplace = True) \n",
        "df['Dependents'].fillna(df['Dependents'].mode()[0], inplace = True)\n",
        "df['Self_Employed'].fillna(df['Self_Employed'].mode()[0], inplace = True)   \n",
        "df['Loan_Amount_Term'].fillna(df['Loan_Amount_Term'].mode()[0], inplace = True)\n",
        "df['Credit_History'].fillna(df['Credit_History'].mode()[0], inplace = True)"
      ],
      "execution_count": null,
      "outputs": []
    },
    {
      "cell_type": "code",
      "metadata": {
        "id": "5vTb9GOoBS4g",
        "outputId": "fb514dfc-b527-42dd-adf6-d6343b2838d7",
        "colab": {
          "base_uri": "https://localhost:8080/",
          "height": 260
        }
      },
      "source": [
        "df.isnull().sum()"
      ],
      "execution_count": null,
      "outputs": [
        {
          "output_type": "execute_result",
          "data": {
            "text/plain": [
              "Loan_ID               0\n",
              "Gender                0\n",
              "Married               0\n",
              "Dependents            0\n",
              "Education             0\n",
              "Self_Employed         0\n",
              "ApplicantIncome       0\n",
              "CoapplicantIncome     0\n",
              "LoanAmount           22\n",
              "Loan_Amount_Term      0\n",
              "Credit_History        0\n",
              "Property_Area         0\n",
              "Loan_Status           0\n",
              "dtype: int64"
            ]
          },
          "metadata": {
            "tags": []
          },
          "execution_count": 15
        }
      ]
    },
    {
      "cell_type": "code",
      "metadata": {
        "id": "DXGYS45uGCqT",
        "outputId": "6a7e8b85-50d2-45d5-d777-fc4933343a71",
        "colab": {
          "base_uri": "https://localhost:8080/",
          "height": 69
        }
      },
      "source": [
        "df['Credit_History'].value_counts()"
      ],
      "execution_count": null,
      "outputs": [
        {
          "output_type": "execute_result",
          "data": {
            "text/plain": [
              "1.0    525\n",
              "0.0     89\n",
              "Name: Credit_History, dtype: int64"
            ]
          },
          "metadata": {
            "tags": []
          },
          "execution_count": 16
        }
      ]
    },
    {
      "cell_type": "markdown",
      "metadata": {
        "id": "U_3DvTwsis04"
      },
      "source": [
        "#### 1.1.2 Filling in the numerical data (mean/mediun)"
      ]
    },
    {
      "cell_type": "code",
      "metadata": {
        "id": "SeTzZeb0Bd1O"
      },
      "source": [
        "df['LoanAmount'].fillna(df['LoanAmount'].mean(), inplace = True)"
      ],
      "execution_count": null,
      "outputs": []
    },
    {
      "cell_type": "code",
      "metadata": {
        "id": "mSE_MB2NG_8P",
        "outputId": "5481669b-aa6a-42cf-b52d-e65eac3f1fd1",
        "colab": {
          "base_uri": "https://localhost:8080/",
          "height": 260
        }
      },
      "source": [
        "df.isnull().sum()"
      ],
      "execution_count": null,
      "outputs": [
        {
          "output_type": "execute_result",
          "data": {
            "text/plain": [
              "Loan_ID              0\n",
              "Gender               0\n",
              "Married              0\n",
              "Dependents           0\n",
              "Education            0\n",
              "Self_Employed        0\n",
              "ApplicantIncome      0\n",
              "CoapplicantIncome    0\n",
              "LoanAmount           0\n",
              "Loan_Amount_Term     0\n",
              "Credit_History       0\n",
              "Property_Area        0\n",
              "Loan_Status          0\n",
              "dtype: int64"
            ]
          },
          "metadata": {
            "tags": []
          },
          "execution_count": 18
        }
      ]
    },
    {
      "cell_type": "code",
      "metadata": {
        "id": "syYli7IOfPt6",
        "outputId": "544d9fcb-81d4-428c-90a3-c06f4d98fd6c",
        "colab": {
          "base_uri": "https://localhost:8080/",
          "height": 364
        }
      },
      "source": [
        "df.info()"
      ],
      "execution_count": null,
      "outputs": [
        {
          "output_type": "stream",
          "text": [
            "<class 'pandas.core.frame.DataFrame'>\n",
            "RangeIndex: 614 entries, 0 to 613\n",
            "Data columns (total 13 columns):\n",
            " #   Column             Non-Null Count  Dtype  \n",
            "---  ------             --------------  -----  \n",
            " 0   Loan_ID            614 non-null    object \n",
            " 1   Gender             614 non-null    object \n",
            " 2   Married            614 non-null    object \n",
            " 3   Dependents         614 non-null    object \n",
            " 4   Education          614 non-null    object \n",
            " 5   Self_Employed      614 non-null    object \n",
            " 6   ApplicantIncome    614 non-null    int64  \n",
            " 7   CoapplicantIncome  614 non-null    float64\n",
            " 8   LoanAmount         614 non-null    float64\n",
            " 9   Loan_Amount_Term   614 non-null    float64\n",
            " 10  Credit_History     614 non-null    float64\n",
            " 11  Property_Area      614 non-null    object \n",
            " 12  Loan_Status        614 non-null    object \n",
            "dtypes: float64(4), int64(1), object(8)\n",
            "memory usage: 62.5+ KB\n"
          ],
          "name": "stdout"
        }
      ]
    },
    {
      "cell_type": "code",
      "metadata": {
        "id": "mjqOvgJfsnlE",
        "outputId": "14e71b09-54d3-434f-c10e-c41631b34085",
        "colab": {
          "base_uri": "https://localhost:8080/",
          "height": 69
        }
      },
      "source": [
        "df['Loan_Status'].value_counts()"
      ],
      "execution_count": null,
      "outputs": [
        {
          "output_type": "execute_result",
          "data": {
            "text/plain": [
              "Y    422\n",
              "N    192\n",
              "Name: Loan_Status, dtype: int64"
            ]
          },
          "metadata": {
            "tags": []
          },
          "execution_count": 26
        }
      ]
    },
    {
      "cell_type": "markdown",
      "metadata": {
        "id": "Vmgok0O5JPg1"
      },
      "source": [
        "## 1.2 Transform categorical data to number using End-coding technique "
      ]
    },
    {
      "cell_type": "code",
      "metadata": {
        "id": "VANmBsyvMoWt",
        "outputId": "40b4a257-9ff2-4d20-b90b-bfad55358bd3",
        "colab": {
          "base_uri": "https://localhost:8080/",
          "height": 87
        }
      },
      "source": [
        "df.columns"
      ],
      "execution_count": null,
      "outputs": [
        {
          "output_type": "execute_result",
          "data": {
            "text/plain": [
              "Index(['Loan_ID', 'Gender', 'Married', 'Dependents', 'Education',\n",
              "       'Self_Employed', 'ApplicantIncome', 'CoapplicantIncome', 'LoanAmount',\n",
              "       'Loan_Amount_Term', 'Credit_History', 'Property_Area', 'Loan_Status'],\n",
              "      dtype='object')"
            ]
          },
          "metadata": {
            "tags": []
          },
          "execution_count": 14
        }
      ]
    },
    {
      "cell_type": "code",
      "metadata": {
        "id": "m_DVjmDnHHrA"
      },
      "source": [
        "df['Gender'] = df['Gender'].map({'Male': 0, 'Female': 1})\n",
        "df['Married'] = df['Married'].map({'No': 0, 'Yes': 1})\n",
        "df['Dependents'] = df['Dependents'].map({'0': 0, '1': 1, '2':2, '3+':3})\n",
        "df['Education'] = df['Education'].map({'Graduate': 1, 'Not Graduate': 0})\n",
        "df['Self_Employed'] = df['Self_Employed'].map({'No':0, 'Yes':1})\n",
        "df['Property_Area'] = df['Property_Area'].map({'Rural' : 0, 'Semiurban' : 1, 'Urban': 2})\n",
        "df['Loan_Status'] = df['Loan_Status'].map({'N' : 0, 'Y' : 1})"
      ],
      "execution_count": null,
      "outputs": []
    },
    {
      "cell_type": "code",
      "metadata": {
        "id": "WA15rxtILA-i",
        "outputId": "6335ad42-d919-412d-b954-cc629f229ff0",
        "colab": {
          "base_uri": "https://localhost:8080/",
          "height": 222
        }
      },
      "source": [
        "df.head()"
      ],
      "execution_count": null,
      "outputs": [
        {
          "output_type": "execute_result",
          "data": {
            "text/html": [
              "<div>\n",
              "<style scoped>\n",
              "    .dataframe tbody tr th:only-of-type {\n",
              "        vertical-align: middle;\n",
              "    }\n",
              "\n",
              "    .dataframe tbody tr th {\n",
              "        vertical-align: top;\n",
              "    }\n",
              "\n",
              "    .dataframe thead th {\n",
              "        text-align: right;\n",
              "    }\n",
              "</style>\n",
              "<table border=\"1\" class=\"dataframe\">\n",
              "  <thead>\n",
              "    <tr style=\"text-align: right;\">\n",
              "      <th></th>\n",
              "      <th>Loan_ID</th>\n",
              "      <th>Gender</th>\n",
              "      <th>Married</th>\n",
              "      <th>Dependents</th>\n",
              "      <th>Education</th>\n",
              "      <th>Self_Employed</th>\n",
              "      <th>ApplicantIncome</th>\n",
              "      <th>CoapplicantIncome</th>\n",
              "      <th>LoanAmount</th>\n",
              "      <th>Loan_Amount_Term</th>\n",
              "      <th>Credit_History</th>\n",
              "      <th>Property_Area</th>\n",
              "      <th>Loan_Status</th>\n",
              "    </tr>\n",
              "  </thead>\n",
              "  <tbody>\n",
              "    <tr>\n",
              "      <th>0</th>\n",
              "      <td>LP001002</td>\n",
              "      <td>0</td>\n",
              "      <td>0</td>\n",
              "      <td>0</td>\n",
              "      <td>1</td>\n",
              "      <td>0</td>\n",
              "      <td>5849</td>\n",
              "      <td>0.0</td>\n",
              "      <td>146.412162</td>\n",
              "      <td>360.0</td>\n",
              "      <td>1.0</td>\n",
              "      <td>2</td>\n",
              "      <td>1</td>\n",
              "    </tr>\n",
              "    <tr>\n",
              "      <th>1</th>\n",
              "      <td>LP001003</td>\n",
              "      <td>0</td>\n",
              "      <td>1</td>\n",
              "      <td>1</td>\n",
              "      <td>1</td>\n",
              "      <td>0</td>\n",
              "      <td>4583</td>\n",
              "      <td>1508.0</td>\n",
              "      <td>128.000000</td>\n",
              "      <td>360.0</td>\n",
              "      <td>1.0</td>\n",
              "      <td>0</td>\n",
              "      <td>0</td>\n",
              "    </tr>\n",
              "    <tr>\n",
              "      <th>2</th>\n",
              "      <td>LP001005</td>\n",
              "      <td>0</td>\n",
              "      <td>1</td>\n",
              "      <td>0</td>\n",
              "      <td>1</td>\n",
              "      <td>1</td>\n",
              "      <td>3000</td>\n",
              "      <td>0.0</td>\n",
              "      <td>66.000000</td>\n",
              "      <td>360.0</td>\n",
              "      <td>1.0</td>\n",
              "      <td>2</td>\n",
              "      <td>1</td>\n",
              "    </tr>\n",
              "    <tr>\n",
              "      <th>3</th>\n",
              "      <td>LP001006</td>\n",
              "      <td>0</td>\n",
              "      <td>1</td>\n",
              "      <td>0</td>\n",
              "      <td>0</td>\n",
              "      <td>0</td>\n",
              "      <td>2583</td>\n",
              "      <td>2358.0</td>\n",
              "      <td>120.000000</td>\n",
              "      <td>360.0</td>\n",
              "      <td>1.0</td>\n",
              "      <td>2</td>\n",
              "      <td>1</td>\n",
              "    </tr>\n",
              "    <tr>\n",
              "      <th>4</th>\n",
              "      <td>LP001008</td>\n",
              "      <td>0</td>\n",
              "      <td>0</td>\n",
              "      <td>0</td>\n",
              "      <td>1</td>\n",
              "      <td>0</td>\n",
              "      <td>6000</td>\n",
              "      <td>0.0</td>\n",
              "      <td>141.000000</td>\n",
              "      <td>360.0</td>\n",
              "      <td>1.0</td>\n",
              "      <td>2</td>\n",
              "      <td>1</td>\n",
              "    </tr>\n",
              "  </tbody>\n",
              "</table>\n",
              "</div>"
            ],
            "text/plain": [
              "    Loan_ID  Gender  Married  ...  Credit_History  Property_Area  Loan_Status\n",
              "0  LP001002       0        0  ...             1.0              2            1\n",
              "1  LP001003       0        1  ...             1.0              0            0\n",
              "2  LP001005       0        1  ...             1.0              2            1\n",
              "3  LP001006       0        1  ...             1.0              2            1\n",
              "4  LP001008       0        0  ...             1.0              2            1\n",
              "\n",
              "[5 rows x 13 columns]"
            ]
          },
          "metadata": {
            "tags": []
          },
          "execution_count": 16
        }
      ]
    },
    {
      "cell_type": "code",
      "metadata": {
        "id": "znLZ75zpgv4E",
        "outputId": "bef15bed-345b-4727-9185-bb25fd544a87",
        "colab": {
          "base_uri": "https://localhost:8080/",
          "height": 104
        }
      },
      "source": [
        "df['Dependents'].value_counts()"
      ],
      "execution_count": null,
      "outputs": [
        {
          "output_type": "execute_result",
          "data": {
            "text/plain": [
              "0    360\n",
              "1    102\n",
              "2    101\n",
              "3     51\n",
              "Name: Dependents, dtype: int64"
            ]
          },
          "metadata": {
            "tags": []
          },
          "execution_count": 17
        }
      ]
    },
    {
      "cell_type": "markdown",
      "metadata": {
        "id": "ab4-1hLng9m3"
      },
      "source": [
        "## 1.3 Normalization method for bringing all data in range 0 to 1"
      ]
    },
    {
      "cell_type": "code",
      "metadata": {
        "id": "xfSL9L-hg5fz"
      },
      "source": [
        "# For example \n",
        "# bringing 'Dependents' data in the range 0 to 1\n",
        "df['Dependents'] = (df['Dependents']- df['Dependents'].min())/(df['Dependents'].max() - df['Dependents'].min())"
      ],
      "execution_count": null,
      "outputs": []
    },
    {
      "cell_type": "code",
      "metadata": {
        "id": "8CBZ3Bj6qF5E"
      },
      "source": [
        "#For all data\n",
        "\n",
        "for col in df.columns[1:]:\n",
        "    df[col] = (df[col] - df[col].min())/(df[col].max() - df[col].min())"
      ],
      "execution_count": null,
      "outputs": []
    },
    {
      "cell_type": "code",
      "metadata": {
        "id": "Z8kRTBSdqjuB",
        "outputId": "610c79d9-512e-4612-c923-c55e90f61b3d",
        "colab": {
          "base_uri": "https://localhost:8080/",
          "height": 222
        }
      },
      "source": [
        "df.head()"
      ],
      "execution_count": null,
      "outputs": [
        {
          "output_type": "execute_result",
          "data": {
            "text/html": [
              "<div>\n",
              "<style scoped>\n",
              "    .dataframe tbody tr th:only-of-type {\n",
              "        vertical-align: middle;\n",
              "    }\n",
              "\n",
              "    .dataframe tbody tr th {\n",
              "        vertical-align: top;\n",
              "    }\n",
              "\n",
              "    .dataframe thead th {\n",
              "        text-align: right;\n",
              "    }\n",
              "</style>\n",
              "<table border=\"1\" class=\"dataframe\">\n",
              "  <thead>\n",
              "    <tr style=\"text-align: right;\">\n",
              "      <th></th>\n",
              "      <th>Loan_ID</th>\n",
              "      <th>Gender</th>\n",
              "      <th>Married</th>\n",
              "      <th>Dependents</th>\n",
              "      <th>Education</th>\n",
              "      <th>Self_Employed</th>\n",
              "      <th>ApplicantIncome</th>\n",
              "      <th>CoapplicantIncome</th>\n",
              "      <th>LoanAmount</th>\n",
              "      <th>Loan_Amount_Term</th>\n",
              "      <th>Credit_History</th>\n",
              "      <th>Property_Area</th>\n",
              "      <th>Loan_Status</th>\n",
              "    </tr>\n",
              "  </thead>\n",
              "  <tbody>\n",
              "    <tr>\n",
              "      <th>0</th>\n",
              "      <td>LP001002</td>\n",
              "      <td>0.0</td>\n",
              "      <td>0.0</td>\n",
              "      <td>0.000000</td>\n",
              "      <td>1.0</td>\n",
              "      <td>0.0</td>\n",
              "      <td>0.070489</td>\n",
              "      <td>0.000000</td>\n",
              "      <td>0.198860</td>\n",
              "      <td>0.74359</td>\n",
              "      <td>1.0</td>\n",
              "      <td>1.0</td>\n",
              "      <td>1.0</td>\n",
              "    </tr>\n",
              "    <tr>\n",
              "      <th>1</th>\n",
              "      <td>LP001003</td>\n",
              "      <td>0.0</td>\n",
              "      <td>1.0</td>\n",
              "      <td>0.333333</td>\n",
              "      <td>1.0</td>\n",
              "      <td>0.0</td>\n",
              "      <td>0.054830</td>\n",
              "      <td>0.036192</td>\n",
              "      <td>0.172214</td>\n",
              "      <td>0.74359</td>\n",
              "      <td>1.0</td>\n",
              "      <td>0.0</td>\n",
              "      <td>0.0</td>\n",
              "    </tr>\n",
              "    <tr>\n",
              "      <th>2</th>\n",
              "      <td>LP001005</td>\n",
              "      <td>0.0</td>\n",
              "      <td>1.0</td>\n",
              "      <td>0.000000</td>\n",
              "      <td>1.0</td>\n",
              "      <td>1.0</td>\n",
              "      <td>0.035250</td>\n",
              "      <td>0.000000</td>\n",
              "      <td>0.082489</td>\n",
              "      <td>0.74359</td>\n",
              "      <td>1.0</td>\n",
              "      <td>1.0</td>\n",
              "      <td>1.0</td>\n",
              "    </tr>\n",
              "    <tr>\n",
              "      <th>3</th>\n",
              "      <td>LP001006</td>\n",
              "      <td>0.0</td>\n",
              "      <td>1.0</td>\n",
              "      <td>0.000000</td>\n",
              "      <td>0.0</td>\n",
              "      <td>0.0</td>\n",
              "      <td>0.030093</td>\n",
              "      <td>0.056592</td>\n",
              "      <td>0.160637</td>\n",
              "      <td>0.74359</td>\n",
              "      <td>1.0</td>\n",
              "      <td>1.0</td>\n",
              "      <td>1.0</td>\n",
              "    </tr>\n",
              "    <tr>\n",
              "      <th>4</th>\n",
              "      <td>LP001008</td>\n",
              "      <td>0.0</td>\n",
              "      <td>0.0</td>\n",
              "      <td>0.000000</td>\n",
              "      <td>1.0</td>\n",
              "      <td>0.0</td>\n",
              "      <td>0.072356</td>\n",
              "      <td>0.000000</td>\n",
              "      <td>0.191027</td>\n",
              "      <td>0.74359</td>\n",
              "      <td>1.0</td>\n",
              "      <td>1.0</td>\n",
              "      <td>1.0</td>\n",
              "    </tr>\n",
              "  </tbody>\n",
              "</table>\n",
              "</div>"
            ],
            "text/plain": [
              "    Loan_ID  Gender  Married  ...  Credit_History  Property_Area  Loan_Status\n",
              "0  LP001002     0.0      0.0  ...             1.0            1.0          1.0\n",
              "1  LP001003     0.0      1.0  ...             1.0            0.0          0.0\n",
              "2  LP001005     0.0      1.0  ...             1.0            1.0          1.0\n",
              "3  LP001006     0.0      1.0  ...             1.0            1.0          1.0\n",
              "4  LP001008     0.0      0.0  ...             1.0            1.0          1.0\n",
              "\n",
              "[5 rows x 13 columns]"
            ]
          },
          "metadata": {
            "tags": []
          },
          "execution_count": 20
        }
      ]
    },
    {
      "cell_type": "code",
      "metadata": {
        "id": "VMsd8JrEqsoC"
      },
      "source": [
        "# Save to csv file\n",
        "df.to_csv('loan_pre-processed_data.csv', index = False)"
      ],
      "execution_count": null,
      "outputs": []
    },
    {
      "cell_type": "markdown",
      "metadata": {
        "id": "evmjOkRE1ISZ"
      },
      "source": [
        "# STEP 2 : to build a Neural Network using Keras\n",
        "\n",
        "<ol>2.1 Loading the dataset and libralies</ol>\n",
        "<ol>2.2 Creating training and validation set</ol>\n",
        "<ol>2.3 Defining the architecture of the model</ol>\n",
        "<ol>2.4 Compiling the model (defining loss function, optimizer)</ol>\n",
        "<ol>2.5 Training the model</ol>\n",
        "<ol>2.6 Evaluating model performance on training and validation set</ol>"
      ]
    },
    {
      "cell_type": "markdown",
      "metadata": {
        "id": "NURObB0f2Wux"
      },
      "source": [
        "## 2.1 Loading the dataset and libralies"
      ]
    },
    {
      "cell_type": "code",
      "metadata": {
        "id": "_mKqt5mqrEo-",
        "outputId": "7a20ec79-f54b-486d-f033-634fabe4a9d5",
        "colab": {
          "base_uri": "https://localhost:8080/",
          "height": 35
        }
      },
      "source": [
        "%tensorflow_version 1.x"
      ],
      "execution_count": null,
      "outputs": [
        {
          "output_type": "stream",
          "text": [
            "TensorFlow 1.x selected.\n"
          ],
          "name": "stdout"
        }
      ]
    },
    {
      "cell_type": "code",
      "metadata": {
        "id": "7n5NjPXj2DKG"
      },
      "source": [
        "import numpy as np\n",
        "import sklearn\n",
        "from sklearn.model_selection import train_test_split\n",
        "from sklearn.metrics import accuracy_score\n",
        "\n",
        "import keras\n",
        "# importing the sequential model\n",
        "from keras.models import Sequential\n",
        "# import different layers from keras\n",
        "from keras.layers import InputLayer, Dense\n",
        "\n",
        "import tensorflow as tf\n",
        "import matplotlib.pyplot as plt\n",
        "%matplotlib inline"
      ],
      "execution_count": null,
      "outputs": []
    },
    {
      "cell_type": "code",
      "metadata": {
        "id": "iuREGTt72fNo",
        "outputId": "259fcb74-3e93-4ac5-e249-698d9370b107",
        "colab": {
          "base_uri": "https://localhost:8080/",
          "height": 35
        }
      },
      "source": [
        "print(sklearn.__version__)"
      ],
      "execution_count": null,
      "outputs": [
        {
          "output_type": "stream",
          "text": [
            "0.22.2.post1\n"
          ],
          "name": "stdout"
        }
      ]
    },
    {
      "cell_type": "code",
      "metadata": {
        "id": "Ux4yRiGo5F-q"
      },
      "source": [
        "data = pd.read_csv('loan_pre-processed_data.csv')"
      ],
      "execution_count": null,
      "outputs": []
    },
    {
      "cell_type": "code",
      "metadata": {
        "id": "NroRDG-35Zyb",
        "outputId": "ad3e004e-c4b4-4b57-e77e-9be0e2f93ac4",
        "colab": {
          "base_uri": "https://localhost:8080/",
          "height": 222
        }
      },
      "source": [
        "data.head()"
      ],
      "execution_count": null,
      "outputs": [
        {
          "output_type": "execute_result",
          "data": {
            "text/html": [
              "<div>\n",
              "<style scoped>\n",
              "    .dataframe tbody tr th:only-of-type {\n",
              "        vertical-align: middle;\n",
              "    }\n",
              "\n",
              "    .dataframe tbody tr th {\n",
              "        vertical-align: top;\n",
              "    }\n",
              "\n",
              "    .dataframe thead th {\n",
              "        text-align: right;\n",
              "    }\n",
              "</style>\n",
              "<table border=\"1\" class=\"dataframe\">\n",
              "  <thead>\n",
              "    <tr style=\"text-align: right;\">\n",
              "      <th></th>\n",
              "      <th>Loan_ID</th>\n",
              "      <th>Gender</th>\n",
              "      <th>Married</th>\n",
              "      <th>Dependents</th>\n",
              "      <th>Education</th>\n",
              "      <th>Self_Employed</th>\n",
              "      <th>ApplicantIncome</th>\n",
              "      <th>CoapplicantIncome</th>\n",
              "      <th>LoanAmount</th>\n",
              "      <th>Loan_Amount_Term</th>\n",
              "      <th>Credit_History</th>\n",
              "      <th>Property_Area</th>\n",
              "      <th>Loan_Status</th>\n",
              "    </tr>\n",
              "  </thead>\n",
              "  <tbody>\n",
              "    <tr>\n",
              "      <th>0</th>\n",
              "      <td>LP001002</td>\n",
              "      <td>0.0</td>\n",
              "      <td>0.0</td>\n",
              "      <td>0.000000</td>\n",
              "      <td>1.0</td>\n",
              "      <td>0.0</td>\n",
              "      <td>0.070489</td>\n",
              "      <td>0.000000</td>\n",
              "      <td>0.198860</td>\n",
              "      <td>0.74359</td>\n",
              "      <td>1.0</td>\n",
              "      <td>1.0</td>\n",
              "      <td>1.0</td>\n",
              "    </tr>\n",
              "    <tr>\n",
              "      <th>1</th>\n",
              "      <td>LP001003</td>\n",
              "      <td>0.0</td>\n",
              "      <td>1.0</td>\n",
              "      <td>0.333333</td>\n",
              "      <td>1.0</td>\n",
              "      <td>0.0</td>\n",
              "      <td>0.054830</td>\n",
              "      <td>0.036192</td>\n",
              "      <td>0.172214</td>\n",
              "      <td>0.74359</td>\n",
              "      <td>1.0</td>\n",
              "      <td>0.0</td>\n",
              "      <td>0.0</td>\n",
              "    </tr>\n",
              "    <tr>\n",
              "      <th>2</th>\n",
              "      <td>LP001005</td>\n",
              "      <td>0.0</td>\n",
              "      <td>1.0</td>\n",
              "      <td>0.000000</td>\n",
              "      <td>1.0</td>\n",
              "      <td>1.0</td>\n",
              "      <td>0.035250</td>\n",
              "      <td>0.000000</td>\n",
              "      <td>0.082489</td>\n",
              "      <td>0.74359</td>\n",
              "      <td>1.0</td>\n",
              "      <td>1.0</td>\n",
              "      <td>1.0</td>\n",
              "    </tr>\n",
              "    <tr>\n",
              "      <th>3</th>\n",
              "      <td>LP001006</td>\n",
              "      <td>0.0</td>\n",
              "      <td>1.0</td>\n",
              "      <td>0.000000</td>\n",
              "      <td>0.0</td>\n",
              "      <td>0.0</td>\n",
              "      <td>0.030093</td>\n",
              "      <td>0.056592</td>\n",
              "      <td>0.160637</td>\n",
              "      <td>0.74359</td>\n",
              "      <td>1.0</td>\n",
              "      <td>1.0</td>\n",
              "      <td>1.0</td>\n",
              "    </tr>\n",
              "    <tr>\n",
              "      <th>4</th>\n",
              "      <td>LP001008</td>\n",
              "      <td>0.0</td>\n",
              "      <td>0.0</td>\n",
              "      <td>0.000000</td>\n",
              "      <td>1.0</td>\n",
              "      <td>0.0</td>\n",
              "      <td>0.072356</td>\n",
              "      <td>0.000000</td>\n",
              "      <td>0.191027</td>\n",
              "      <td>0.74359</td>\n",
              "      <td>1.0</td>\n",
              "      <td>1.0</td>\n",
              "      <td>1.0</td>\n",
              "    </tr>\n",
              "  </tbody>\n",
              "</table>\n",
              "</div>"
            ],
            "text/plain": [
              "    Loan_ID  Gender  Married  ...  Credit_History  Property_Area  Loan_Status\n",
              "0  LP001002     0.0      0.0  ...             1.0            1.0          1.0\n",
              "1  LP001003     0.0      1.0  ...             1.0            0.0          0.0\n",
              "2  LP001005     0.0      1.0  ...             1.0            1.0          1.0\n",
              "3  LP001006     0.0      1.0  ...             1.0            1.0          1.0\n",
              "4  LP001008     0.0      0.0  ...             1.0            1.0          1.0\n",
              "\n",
              "[5 rows x 13 columns]"
            ]
          },
          "metadata": {
            "tags": []
          },
          "execution_count": 26
        }
      ]
    },
    {
      "cell_type": "code",
      "metadata": {
        "id": "tqK8GlBC5dtu",
        "outputId": "d4af988b-82c5-4b15-e897-8b4e46f940b0",
        "colab": {
          "base_uri": "https://localhost:8080/",
          "height": 260
        }
      },
      "source": [
        "# checking missing values\n",
        "data.isnull().sum()"
      ],
      "execution_count": null,
      "outputs": [
        {
          "output_type": "execute_result",
          "data": {
            "text/plain": [
              "Loan_ID              0\n",
              "Gender               0\n",
              "Married              0\n",
              "Dependents           0\n",
              "Education            0\n",
              "Self_Employed        0\n",
              "ApplicantIncome      0\n",
              "CoapplicantIncome    0\n",
              "LoanAmount           0\n",
              "Loan_Amount_Term     0\n",
              "Credit_History       0\n",
              "Property_Area        0\n",
              "Loan_Status          0\n",
              "dtype: int64"
            ]
          },
          "metadata": {
            "tags": []
          },
          "execution_count": 28
        }
      ]
    },
    {
      "cell_type": "code",
      "metadata": {
        "id": "WC7HPKDs51Gh",
        "outputId": "78f8942a-952b-4061-e523-f0cc0b946c2e",
        "colab": {
          "base_uri": "https://localhost:8080/",
          "height": 260
        }
      },
      "source": [
        "# checking the data type\n",
        "data.dtypes"
      ],
      "execution_count": null,
      "outputs": [
        {
          "output_type": "execute_result",
          "data": {
            "text/plain": [
              "Loan_ID               object\n",
              "Gender               float64\n",
              "Married              float64\n",
              "Dependents           float64\n",
              "Education            float64\n",
              "Self_Employed        float64\n",
              "ApplicantIncome      float64\n",
              "CoapplicantIncome    float64\n",
              "LoanAmount           float64\n",
              "Loan_Amount_Term     float64\n",
              "Credit_History       float64\n",
              "Property_Area        float64\n",
              "Loan_Status          float64\n",
              "dtype: object"
            ]
          },
          "metadata": {
            "tags": []
          },
          "execution_count": 29
        }
      ]
    },
    {
      "cell_type": "code",
      "metadata": {
        "id": "SDxHzXLf56w4"
      },
      "source": [
        "data = data.drop('Loan_ID', axis=1)"
      ],
      "execution_count": null,
      "outputs": []
    },
    {
      "cell_type": "code",
      "metadata": {
        "id": "h7-H_uSsM5Vh",
        "outputId": "1764dd3e-66bc-412e-9f42-fcf0f9aa2624",
        "colab": {
          "base_uri": "https://localhost:8080/",
          "height": 347
        }
      },
      "source": [
        "data.info()"
      ],
      "execution_count": null,
      "outputs": [
        {
          "output_type": "stream",
          "text": [
            "<class 'pandas.core.frame.DataFrame'>\n",
            "RangeIndex: 614 entries, 0 to 613\n",
            "Data columns (total 12 columns):\n",
            " #   Column             Non-Null Count  Dtype  \n",
            "---  ------             --------------  -----  \n",
            " 0   Gender             614 non-null    float64\n",
            " 1   Married            614 non-null    float64\n",
            " 2   Dependents         614 non-null    float64\n",
            " 3   Education          614 non-null    float64\n",
            " 4   Self_Employed      614 non-null    float64\n",
            " 5   ApplicantIncome    614 non-null    float64\n",
            " 6   CoapplicantIncome  614 non-null    float64\n",
            " 7   LoanAmount         614 non-null    float64\n",
            " 8   Loan_Amount_Term   614 non-null    float64\n",
            " 9   Credit_History     614 non-null    float64\n",
            " 10  Property_Area      614 non-null    float64\n",
            " 11  Loan_Status        614 non-null    float64\n",
            "dtypes: float64(12)\n",
            "memory usage: 57.7 KB\n"
          ],
          "name": "stdout"
        }
      ]
    },
    {
      "cell_type": "code",
      "metadata": {
        "id": "fSM6EZm0M8Hc"
      },
      "source": [
        "#Separating the independent and dependent variables\n",
        "\n",
        "# storing all independent variables as X\n",
        "X = data.drop('Loan_Status', axis=1)\n",
        "\n",
        "# storing the dependent variable as y\n",
        "y = data['Loan_Status']"
      ],
      "execution_count": null,
      "outputs": []
    },
    {
      "cell_type": "code",
      "metadata": {
        "id": "wVL9V9UbN8rw",
        "outputId": "2ea6b4ee-1f60-4877-c887-a77f52540e58",
        "colab": {
          "base_uri": "https://localhost:8080/",
          "height": 35
        }
      },
      "source": [
        "X.shape"
      ],
      "execution_count": null,
      "outputs": [
        {
          "output_type": "execute_result",
          "data": {
            "text/plain": [
              "(614, 11)"
            ]
          },
          "metadata": {
            "tags": []
          },
          "execution_count": 33
        }
      ]
    },
    {
      "cell_type": "code",
      "metadata": {
        "id": "xLukr9XROBd0",
        "outputId": "dc8d38ad-f41a-4fb1-f60e-46f570d7672a",
        "colab": {
          "base_uri": "https://localhost:8080/",
          "height": 35
        }
      },
      "source": [
        "y.shape"
      ],
      "execution_count": null,
      "outputs": [
        {
          "output_type": "execute_result",
          "data": {
            "text/plain": [
              "(614,)"
            ]
          },
          "metadata": {
            "tags": []
          },
          "execution_count": 34
        }
      ]
    },
    {
      "cell_type": "markdown",
      "metadata": {
        "id": "h6rKEssIOFXh"
      },
      "source": [
        "## 2.2 Creating training and validation set"
      ]
    },
    {
      "cell_type": "code",
      "metadata": {
        "id": "g3ekxZiHODnb"
      },
      "source": [
        "# stratify will make sure that the distribution of classes in train and validation set it similar\n",
        "# random state to regenerate the same train and validation set\n",
        "# test size 0.2 will keep 20% data in validation and remaining 80% in train set\n",
        "\n",
        "X_train, X_test, y_train, y_test = train_test_split(X,y, stratify= data['Loan_Status'], random_state= 10, test_size = 0.2) "
      ],
      "execution_count": null,
      "outputs": []
    },
    {
      "cell_type": "code",
      "metadata": {
        "id": "2LlYRS-oPTg6",
        "outputId": "f8af7ab3-01d7-44ee-ab03-c3a3c339875a",
        "colab": {
          "base_uri": "https://localhost:8080/",
          "height": 35
        }
      },
      "source": [
        "X_train.shape, y_train.shape"
      ],
      "execution_count": null,
      "outputs": [
        {
          "output_type": "execute_result",
          "data": {
            "text/plain": [
              "((491, 11), (491,))"
            ]
          },
          "metadata": {
            "tags": []
          },
          "execution_count": 36
        }
      ]
    },
    {
      "cell_type": "code",
      "metadata": {
        "id": "NG_NXCq5PhhU",
        "outputId": "f05fd459-9716-4be1-b7a7-408b6181bf44",
        "colab": {
          "base_uri": "https://localhost:8080/",
          "height": 35
        }
      },
      "source": [
        "X_test.shape, y_test.shape"
      ],
      "execution_count": null,
      "outputs": [
        {
          "output_type": "execute_result",
          "data": {
            "text/plain": [
              "((123, 11), (123,))"
            ]
          },
          "metadata": {
            "tags": []
          },
          "execution_count": 37
        }
      ]
    },
    {
      "cell_type": "markdown",
      "metadata": {
        "id": "Oi8FVEQ8PWrT"
      },
      "source": [
        "## 2.3 Definding the architecture of the model"
      ]
    },
    {
      "cell_type": "code",
      "metadata": {
        "id": "Oi4UEHORPoyI",
        "outputId": "b76195d7-d133-44b8-ee81-d0069420c550",
        "colab": {
          "base_uri": "https://localhost:8080/",
          "height": 35
        }
      },
      "source": [
        "keras.__version__"
      ],
      "execution_count": null,
      "outputs": [
        {
          "output_type": "execute_result",
          "data": {
            "application/vnd.google.colaboratory.intrinsic+json": {
              "type": "string"
            },
            "text/plain": [
              "'2.3.1'"
            ]
          },
          "metadata": {
            "tags": []
          },
          "execution_count": 38
        }
      ]
    },
    {
      "cell_type": "code",
      "metadata": {
        "id": "PkRJ1faaQN7f",
        "outputId": "2bd37418-2f84-40ff-d1ab-63cbcf48d018",
        "colab": {
          "base_uri": "https://localhost:8080/",
          "height": 35
        }
      },
      "source": [
        "tf.__version__"
      ],
      "execution_count": null,
      "outputs": [
        {
          "output_type": "execute_result",
          "data": {
            "application/vnd.google.colaboratory.intrinsic+json": {
              "type": "string"
            },
            "text/plain": [
              "'1.15.2'"
            ]
          },
          "metadata": {
            "tags": []
          },
          "execution_count": 39
        }
      ]
    },
    {
      "cell_type": "markdown",
      "metadata": {
        "id": "QQcFTWzyQaaG"
      },
      "source": [
        "#### 2.3.1 Create a model\n",
        "\n",
        "\n",
        "<img src='https://drive.google.com/uc?id=1iZNZ3kwSHRNf-Irn3DZmMuBb6K-Lro7w'>"
      ]
    },
    {
      "cell_type": "markdown",
      "metadata": {
        "id": "o058SknJQ6Qj"
      },
      "source": [
        "#### 2.3.2 Defining different layers\n",
        "<ol>- input layer</ol>\n",
        "<ol>- output layer</ol>\n",
        "<ol>- hidden layer</ol>\n",
        "\n"
      ]
    },
    {
      "cell_type": "code",
      "metadata": {
        "id": "aerkJjF_QS_z"
      },
      "source": [
        "# number of input neurons\n",
        "# X_train.shape\n",
        "# number of features in the data\n",
        "# X_train.shape[1]\n",
        "# defining input neurons\n",
        "input_neurons = X_train.shape[1]\n"
      ],
      "execution_count": null,
      "outputs": []
    },
    {
      "cell_type": "code",
      "metadata": {
        "id": "YoK25UNOSWw5"
      },
      "source": [
        "# number of output neuron\n",
        "# since Loan prediction is a binary classification problem, the output layer will be only one neuron\n",
        "output_neuron = 1"
      ],
      "execution_count": null,
      "outputs": []
    },
    {
      "cell_type": "code",
      "metadata": {
        "id": "pmJFCtnMThKM"
      },
      "source": [
        "# number of hidden layer\n",
        "# It is a hyperparameter and we can pick the hidden layers and hidden neurons on our own\n",
        "# define hidden layers and neuron in each layer\n",
        "number_of_hidden_layers = 2\n",
        "neuron_hidden_layer_1 = 10\n",
        "neuron_hidden_layer_2 = 5"
      ],
      "execution_count": null,
      "outputs": []
    },
    {
      "cell_type": "markdown",
      "metadata": {
        "id": "OhqMqzZqVavZ"
      },
      "source": [
        "#### 2.3.4 Defining activation function of different layers\n",
        "\n",
        "<ol> - Using relu as an activation function for hidden layers, you can change it as well</ol>\n",
        "<ol> - Since it is a binary classification problem, I have used sigmoid activation function in the final layer"
      ]
    },
    {
      "cell_type": "code",
      "metadata": {
        "id": "zuMyTCrXUugf",
        "outputId": "6ce642d9-d289-47e9-98f5-b42e5f526ff7",
        "colab": {
          "base_uri": "https://localhost:8080/",
          "height": 89
        }
      },
      "source": [
        "# defining the architecture of the model\n",
        "model = Sequential()\n",
        "model.add(InputLayer(input_shape=(input_neurons,)))\n",
        "model.add(Dense(units=neuron_hidden_layer_1, activation='relu'))\n",
        "model.add(Dense(units=neuron_hidden_layer_2, activation='relu'))\n",
        "model.add(Dense(units=output_neuron, activation='sigmoid'))"
      ],
      "execution_count": null,
      "outputs": [
        {
          "output_type": "stream",
          "text": [
            "WARNING:tensorflow:From /tensorflow-1.15.2/python3.6/tensorflow_core/python/ops/resource_variable_ops.py:1630: calling BaseResourceVariable.__init__ (from tensorflow.python.ops.resource_variable_ops) with constraint is deprecated and will be removed in a future version.\n",
            "Instructions for updating:\n",
            "If using Keras pass *_constraint arguments to layers.\n"
          ],
          "name": "stdout"
        }
      ]
    },
    {
      "cell_type": "code",
      "metadata": {
        "id": "R6agMclSVUCY",
        "outputId": "21fa53c8-70cc-49ab-9188-091eae634f6f",
        "colab": {
          "base_uri": "https://localhost:8080/",
          "height": 260
        }
      },
      "source": [
        "# summary of the model\n",
        "model.summary()"
      ],
      "execution_count": null,
      "outputs": [
        {
          "output_type": "stream",
          "text": [
            "Model: \"sequential_2\"\n",
            "_________________________________________________________________\n",
            "Layer (type)                 Output Shape              Param #   \n",
            "=================================================================\n",
            "dense_1 (Dense)              (None, 10)                120       \n",
            "_________________________________________________________________\n",
            "dense_2 (Dense)              (None, 5)                 55        \n",
            "_________________________________________________________________\n",
            "dense_3 (Dense)              (None, 1)                 6         \n",
            "=================================================================\n",
            "Total params: 181\n",
            "Trainable params: 181\n",
            "Non-trainable params: 0\n",
            "_________________________________________________________________\n"
          ],
          "name": "stdout"
        }
      ]
    },
    {
      "cell_type": "code",
      "metadata": {
        "id": "htwPYYizYL-k",
        "outputId": "3dffb6b3-9160-4736-a03a-44e13668f0ed",
        "colab": {
          "base_uri": "https://localhost:8080/",
          "height": 35
        }
      },
      "source": [
        "# number of parameters between input and first hidden layer\n",
        "\n",
        "input_neurons*neuron_hidden_layer_1"
      ],
      "execution_count": null,
      "outputs": [
        {
          "output_type": "execute_result",
          "data": {
            "text/plain": [
              "110"
            ]
          },
          "metadata": {
            "tags": []
          },
          "execution_count": 46
        }
      ]
    },
    {
      "cell_type": "code",
      "metadata": {
        "id": "Je_DQyNZYOTk",
        "outputId": "57b4574d-ffaf-4aab-80df-f8b03ce32f8d",
        "colab": {
          "base_uri": "https://localhost:8080/",
          "height": 35
        }
      },
      "source": [
        "# number of parameters between input and first hidden layer\n",
        "\n",
        "# adding the bias for each neuron of first hidden layer\n",
        "\n",
        "input_neurons*neuron_hidden_layer_1 + 10"
      ],
      "execution_count": null,
      "outputs": [
        {
          "output_type": "execute_result",
          "data": {
            "text/plain": [
              "120"
            ]
          },
          "metadata": {
            "tags": []
          },
          "execution_count": 47
        }
      ]
    },
    {
      "cell_type": "code",
      "metadata": {
        "id": "bG_8zvY4YNuA",
        "outputId": "83b55908-67e4-4194-a9e5-241e62b1feda",
        "colab": {
          "base_uri": "https://localhost:8080/",
          "height": 35
        }
      },
      "source": [
        "# number of parameters between first and second hidden layer\n",
        "\n",
        "neuron_hidden_layer_1*neuron_hidden_layer_2 + 5"
      ],
      "execution_count": null,
      "outputs": [
        {
          "output_type": "execute_result",
          "data": {
            "text/plain": [
              "55"
            ]
          },
          "metadata": {
            "tags": []
          },
          "execution_count": 48
        }
      ]
    },
    {
      "cell_type": "code",
      "metadata": {
        "id": "0VN9sHZNYLBR",
        "outputId": "aed720ee-01e0-4184-c0fc-96e8f9e83a14",
        "colab": {
          "base_uri": "https://localhost:8080/",
          "height": 35
        }
      },
      "source": [
        "# number of parameters between second hidden and output layer\n",
        "\n",
        "neuron_hidden_layer_2*output_neuron + 1"
      ],
      "execution_count": null,
      "outputs": [
        {
          "output_type": "execute_result",
          "data": {
            "text/plain": [
              "6"
            ]
          },
          "metadata": {
            "tags": []
          },
          "execution_count": 50
        }
      ]
    },
    {
      "cell_type": "markdown",
      "metadata": {
        "id": "Aqk46W8kvVDx"
      },
      "source": [
        "## 2.4 Compiling the model (Defining loss function and optimizer)"
      ]
    },
    {
      "cell_type": "code",
      "metadata": {
        "id": "ZXYzPzULvJxX",
        "outputId": "7a1ca888-d605-4790-f7a1-36171886804d",
        "colab": {
          "base_uri": "https://localhost:8080/",
          "height": 89
        }
      },
      "source": [
        "# loss as binary_crossentropy, since we have binary classification problem\n",
        "# defining the optimizer as adam\n",
        "# Evaluation metric as accuracy\n",
        "\n",
        "model.compile(loss='binary_crossentropy',optimizer='Adam',metrics=['accuracy'])"
      ],
      "execution_count": null,
      "outputs": [
        {
          "output_type": "stream",
          "text": [
            "WARNING:tensorflow:From /tensorflow-1.15.2/python3.6/tensorflow_core/python/ops/nn_impl.py:183: where (from tensorflow.python.ops.array_ops) is deprecated and will be removed in a future version.\n",
            "Instructions for updating:\n",
            "Use tf.where in 2.0, which has the same broadcast rule as np.where\n"
          ],
          "name": "stdout"
        }
      ]
    },
    {
      "cell_type": "markdown",
      "metadata": {
        "id": "RCXU0b9ev2wJ"
      },
      "source": [
        "##2.5 Training the model"
      ]
    },
    {
      "cell_type": "code",
      "metadata": {
        "id": "604uHeznv0EG",
        "outputId": "d07913ea-a87f-4cef-c193-dfb9eba6706e",
        "colab": {
          "base_uri": "https://localhost:8080/",
          "height": 1000
        }
      },
      "source": [
        "# validation data will be evaluated at the end of each epoch\n",
        "\n",
        "# setting the epochs as 50\n",
        "\n",
        "# storing the trained model in model_history variable which will be used to visualize the training process\n",
        "\n",
        "model_history = model.fit(X_train, y_train, validation_data=(X_test, y_test), epochs=50)"
      ],
      "execution_count": null,
      "outputs": [
        {
          "output_type": "stream",
          "text": [
            "WARNING:tensorflow:From /tensorflow-1.15.2/python3.6/keras/backend/tensorflow_backend.py:422: The name tf.global_variables is deprecated. Please use tf.compat.v1.global_variables instead.\n",
            "\n",
            "Train on 491 samples, validate on 123 samples\n",
            "Epoch 1/50\n",
            "491/491 [==============================] - 0s 855us/step - loss: 0.6363 - accuracy: 0.6864 - val_loss: 0.6283 - val_accuracy: 0.6992\n",
            "Epoch 2/50\n",
            "491/491 [==============================] - 0s 66us/step - loss: 0.6250 - accuracy: 0.6864 - val_loss: 0.6197 - val_accuracy: 0.6992\n",
            "Epoch 3/50\n",
            "491/491 [==============================] - 0s 69us/step - loss: 0.6180 - accuracy: 0.6884 - val_loss: 0.6150 - val_accuracy: 0.6992\n",
            "Epoch 4/50\n",
            "491/491 [==============================] - 0s 59us/step - loss: 0.6127 - accuracy: 0.6884 - val_loss: 0.6114 - val_accuracy: 0.7073\n",
            "Epoch 5/50\n",
            "491/491 [==============================] - 0s 58us/step - loss: 0.6089 - accuracy: 0.6884 - val_loss: 0.6068 - val_accuracy: 0.7073\n",
            "Epoch 6/50\n",
            "491/491 [==============================] - 0s 61us/step - loss: 0.6036 - accuracy: 0.6945 - val_loss: 0.6029 - val_accuracy: 0.6992\n",
            "Epoch 7/50\n",
            "491/491 [==============================] - 0s 63us/step - loss: 0.5978 - accuracy: 0.6925 - val_loss: 0.5988 - val_accuracy: 0.6911\n",
            "Epoch 8/50\n",
            "491/491 [==============================] - 0s 58us/step - loss: 0.5907 - accuracy: 0.7047 - val_loss: 0.5923 - val_accuracy: 0.7073\n",
            "Epoch 9/50\n",
            "491/491 [==============================] - 0s 63us/step - loss: 0.5802 - accuracy: 0.7128 - val_loss: 0.5861 - val_accuracy: 0.6992\n",
            "Epoch 10/50\n",
            "491/491 [==============================] - 0s 62us/step - loss: 0.5715 - accuracy: 0.7149 - val_loss: 0.5801 - val_accuracy: 0.7073\n",
            "Epoch 11/50\n",
            "491/491 [==============================] - 0s 66us/step - loss: 0.5628 - accuracy: 0.7210 - val_loss: 0.5748 - val_accuracy: 0.7073\n",
            "Epoch 12/50\n",
            "491/491 [==============================] - 0s 66us/step - loss: 0.5549 - accuracy: 0.7495 - val_loss: 0.5695 - val_accuracy: 0.7154\n",
            "Epoch 13/50\n",
            "491/491 [==============================] - 0s 61us/step - loss: 0.5485 - accuracy: 0.7678 - val_loss: 0.5629 - val_accuracy: 0.7154\n",
            "Epoch 14/50\n",
            "491/491 [==============================] - 0s 58us/step - loss: 0.5411 - accuracy: 0.7760 - val_loss: 0.5566 - val_accuracy: 0.7236\n",
            "Epoch 15/50\n",
            "491/491 [==============================] - 0s 59us/step - loss: 0.5349 - accuracy: 0.7800 - val_loss: 0.5511 - val_accuracy: 0.7317\n",
            "Epoch 16/50\n",
            "491/491 [==============================] - 0s 58us/step - loss: 0.5294 - accuracy: 0.7862 - val_loss: 0.5465 - val_accuracy: 0.7317\n",
            "Epoch 17/50\n",
            "491/491 [==============================] - 0s 60us/step - loss: 0.5244 - accuracy: 0.7923 - val_loss: 0.5407 - val_accuracy: 0.7398\n",
            "Epoch 18/50\n",
            "491/491 [==============================] - 0s 72us/step - loss: 0.5192 - accuracy: 0.7963 - val_loss: 0.5359 - val_accuracy: 0.7561\n",
            "Epoch 19/50\n",
            "491/491 [==============================] - 0s 68us/step - loss: 0.5164 - accuracy: 0.7943 - val_loss: 0.5314 - val_accuracy: 0.7561\n",
            "Epoch 20/50\n",
            "491/491 [==============================] - 0s 62us/step - loss: 0.5100 - accuracy: 0.8004 - val_loss: 0.5261 - val_accuracy: 0.7805\n",
            "Epoch 21/50\n",
            "491/491 [==============================] - 0s 59us/step - loss: 0.5055 - accuracy: 0.8045 - val_loss: 0.5217 - val_accuracy: 0.7805\n",
            "Epoch 22/50\n",
            "491/491 [==============================] - 0s 59us/step - loss: 0.5021 - accuracy: 0.8086 - val_loss: 0.5171 - val_accuracy: 0.7967\n",
            "Epoch 23/50\n",
            "491/491 [==============================] - 0s 62us/step - loss: 0.4981 - accuracy: 0.8086 - val_loss: 0.5138 - val_accuracy: 0.8049\n",
            "Epoch 24/50\n",
            "491/491 [==============================] - 0s 61us/step - loss: 0.4954 - accuracy: 0.8065 - val_loss: 0.5099 - val_accuracy: 0.8049\n",
            "Epoch 25/50\n",
            "491/491 [==============================] - 0s 60us/step - loss: 0.4925 - accuracy: 0.8065 - val_loss: 0.5071 - val_accuracy: 0.8130\n",
            "Epoch 26/50\n",
            "491/491 [==============================] - 0s 64us/step - loss: 0.4896 - accuracy: 0.8065 - val_loss: 0.5043 - val_accuracy: 0.8130\n",
            "Epoch 27/50\n",
            "491/491 [==============================] - 0s 69us/step - loss: 0.4871 - accuracy: 0.8086 - val_loss: 0.5014 - val_accuracy: 0.8130\n",
            "Epoch 28/50\n",
            "491/491 [==============================] - 0s 64us/step - loss: 0.4857 - accuracy: 0.8086 - val_loss: 0.4989 - val_accuracy: 0.8130\n",
            "Epoch 29/50\n",
            "491/491 [==============================] - 0s 65us/step - loss: 0.4837 - accuracy: 0.8086 - val_loss: 0.4963 - val_accuracy: 0.8130\n",
            "Epoch 30/50\n",
            "491/491 [==============================] - 0s 64us/step - loss: 0.4820 - accuracy: 0.8045 - val_loss: 0.4947 - val_accuracy: 0.8130\n",
            "Epoch 31/50\n",
            "491/491 [==============================] - 0s 66us/step - loss: 0.4793 - accuracy: 0.8106 - val_loss: 0.4926 - val_accuracy: 0.8130\n",
            "Epoch 32/50\n",
            "491/491 [==============================] - 0s 65us/step - loss: 0.4779 - accuracy: 0.8106 - val_loss: 0.4915 - val_accuracy: 0.8130\n",
            "Epoch 33/50\n",
            "491/491 [==============================] - 0s 59us/step - loss: 0.4779 - accuracy: 0.8065 - val_loss: 0.4903 - val_accuracy: 0.8130\n",
            "Epoch 34/50\n",
            "491/491 [==============================] - 0s 62us/step - loss: 0.4752 - accuracy: 0.8086 - val_loss: 0.4889 - val_accuracy: 0.8130\n",
            "Epoch 35/50\n",
            "491/491 [==============================] - 0s 66us/step - loss: 0.4747 - accuracy: 0.8086 - val_loss: 0.4874 - val_accuracy: 0.8130\n",
            "Epoch 36/50\n",
            "491/491 [==============================] - 0s 60us/step - loss: 0.4731 - accuracy: 0.8086 - val_loss: 0.4865 - val_accuracy: 0.8130\n",
            "Epoch 37/50\n",
            "491/491 [==============================] - 0s 70us/step - loss: 0.4720 - accuracy: 0.8086 - val_loss: 0.4852 - val_accuracy: 0.8130\n",
            "Epoch 38/50\n",
            "491/491 [==============================] - 0s 73us/step - loss: 0.4717 - accuracy: 0.8086 - val_loss: 0.4843 - val_accuracy: 0.8130\n",
            "Epoch 39/50\n",
            "491/491 [==============================] - 0s 60us/step - loss: 0.4704 - accuracy: 0.8086 - val_loss: 0.4834 - val_accuracy: 0.8130\n",
            "Epoch 40/50\n",
            "491/491 [==============================] - 0s 70us/step - loss: 0.4693 - accuracy: 0.8086 - val_loss: 0.4833 - val_accuracy: 0.8130\n",
            "Epoch 41/50\n",
            "491/491 [==============================] - 0s 69us/step - loss: 0.4706 - accuracy: 0.8065 - val_loss: 0.4828 - val_accuracy: 0.8130\n",
            "Epoch 42/50\n",
            "491/491 [==============================] - 0s 70us/step - loss: 0.4690 - accuracy: 0.8086 - val_loss: 0.4817 - val_accuracy: 0.8130\n",
            "Epoch 43/50\n",
            "491/491 [==============================] - 0s 64us/step - loss: 0.4688 - accuracy: 0.8086 - val_loss: 0.4815 - val_accuracy: 0.8130\n",
            "Epoch 44/50\n",
            "491/491 [==============================] - 0s 59us/step - loss: 0.4719 - accuracy: 0.8065 - val_loss: 0.4829 - val_accuracy: 0.8130\n",
            "Epoch 45/50\n",
            "491/491 [==============================] - 0s 62us/step - loss: 0.4663 - accuracy: 0.8086 - val_loss: 0.4799 - val_accuracy: 0.8130\n",
            "Epoch 46/50\n",
            "491/491 [==============================] - 0s 60us/step - loss: 0.4667 - accuracy: 0.8086 - val_loss: 0.4802 - val_accuracy: 0.8130\n",
            "Epoch 47/50\n",
            "491/491 [==============================] - 0s 65us/step - loss: 0.4656 - accuracy: 0.8086 - val_loss: 0.4799 - val_accuracy: 0.8130\n",
            "Epoch 48/50\n",
            "491/491 [==============================] - 0s 71us/step - loss: 0.4651 - accuracy: 0.8086 - val_loss: 0.4800 - val_accuracy: 0.8130\n",
            "Epoch 49/50\n",
            "491/491 [==============================] - 0s 60us/step - loss: 0.4654 - accuracy: 0.8086 - val_loss: 0.4791 - val_accuracy: 0.8130\n",
            "Epoch 50/50\n",
            "491/491 [==============================] - 0s 62us/step - loss: 0.4643 - accuracy: 0.8086 - val_loss: 0.4796 - val_accuracy: 0.8130\n"
          ],
          "name": "stdout"
        }
      ]
    },
    {
      "cell_type": "markdown",
      "metadata": {
        "id": "JtTlAM2MwVN4"
      },
      "source": [
        "## 2.6 Evaluating model performance in validation set"
      ]
    },
    {
      "cell_type": "code",
      "metadata": {
        "id": "SrdKHYINwKqu"
      },
      "source": [
        "# getting predictions for the validation set\n",
        "prediction = model.predict_classes(X_test)"
      ],
      "execution_count": null,
      "outputs": []
    },
    {
      "cell_type": "code",
      "metadata": {
        "id": "XtjLk7iZweCh",
        "outputId": "0200f8a0-66e2-4b11-b7a6-02c76d36a03b",
        "colab": {
          "base_uri": "https://localhost:8080/",
          "height": 35
        }
      },
      "source": [
        "# calculating the accuracy on validation set\n",
        "accuracy_score(y_test, prediction)"
      ],
      "execution_count": null,
      "outputs": [
        {
          "output_type": "execute_result",
          "data": {
            "text/plain": [
              "0.8130081300813008"
            ]
          },
          "metadata": {
            "tags": []
          },
          "execution_count": 54
        }
      ]
    },
    {
      "cell_type": "markdown",
      "metadata": {
        "id": "8Z3j9GeQw4sv"
      },
      "source": [
        "#### 2.6.1 Visualizing the model performance"
      ]
    },
    {
      "cell_type": "code",
      "metadata": {
        "id": "xjLnDxSUw18w",
        "outputId": "76f0016c-67ee-4774-d136-77e4852767b2",
        "colab": {
          "base_uri": "https://localhost:8080/",
          "height": 295
        }
      },
      "source": [
        "plt.plot(model_history.history['loss'])\n",
        "plt.plot(model_history.history['val_loss'])\n",
        "plt.title('model loss')\n",
        "plt.ylabel('loss')\n",
        "plt.xlabel('epoch')\n",
        "plt.legend(['train','validation'], loc = 'upper left')\n",
        "plt.show()"
      ],
      "execution_count": null,
      "outputs": [
        {
          "output_type": "display_data",
          "data": {
            "image/png": "[encoded data removed]",
            "text/plain": [
              "<Figure size 432x288 with 1 Axes>"
            ]
          },
          "metadata": {
            "tags": [],
            "needs_background": "light"
          }
        }
      ]
    },
    {
      "cell_type": "code",
      "metadata": {
        "id": "x4-1hPx-xoHV",
        "outputId": "a5810532-3b1a-457f-8a70-226934a887ca",
        "colab": {
          "base_uri": "https://localhost:8080/",
          "height": 295
        }
      },
      "source": [
        "plt.plot(model_history.history['accuracy'])\n",
        "plt.plot(model_history.history['val_accuracy'])\n",
        "plt.title('model accuracy')\n",
        "plt.ylabel('accuracy')\n",
        "plt.xlabel('epoch')\n",
        "plt.legend(['train','validation'], loc= 'upper left')\n",
        "plt.show()"
      ],
      "execution_count": null,
      "outputs": [
        {
          "output_type": "display_data",
          "data": {
            "image/png": "[encoded data removed]",
            "text/plain": [
              "<Figure size 432x288 with 1 Axes>"
            ]
          },
          "metadata": {
            "tags": [],
            "needs_background": "light"
          }
        }
      ]
    },
    {
      "cell_type": "code",
      "metadata": {
        "id": "rONLOSTXyXM2"
      },
      "source": [
        ""
      ],
      "execution_count": null,
      "outputs": []
    }
  ]
}